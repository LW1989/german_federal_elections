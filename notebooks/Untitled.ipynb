{
 "cells": [
  {
   "cell_type": "markdown",
   "id": "46dd3f74",
   "metadata": {},
   "source": [
    "German Federal Election Analysis\n",
    "\n",
    "This Jupyter Notebook aims to analyze the structural data and election results of the German federal elections. The data is preprocessed and cleaned to allow for a comprehensive analysis. In particular, the notebook covers the following steps:\n",
    "\n",
    "    Import the required libraries\n",
    "    Load and preprocess structural data\n",
    "    Rename columns for better readability\n",
    "    Perform calculations on the data\n",
    "    Save the cleaned structural data to a CSV file\n",
    "    Load and preprocess election data\n",
    "    Rename columns for better readability\n",
    "    Clean and format the data\n",
    "    Save the cleaned election data to a CSV file"
   ]
  },
  {
   "cell_type": "code",
   "execution_count": null,
   "id": "3ad339b6",
   "metadata": {},
   "outputs": [],
   "source": [
    "import pandas as pd\n",
    "\n",
    "# Load and preprocess structural data\n",
    "import_data = pd.read_csv('/Users/lutz/Downloads/btw21_structural_data_raw.csv', sep=';')\n",
    "structural_data = import_data.iloc[7:,:]\n",
    "structural_data.columns = structural_data.iloc[0]\n",
    "structural_data = structural_data.drop(structural_data.index[0]).reset_index(drop=True)\n",
    "\n",
    "# Remove unnecessary rows\n",
    "rows_to_remove = structural_data[structural_data.iloc[:, 2] == 'Land insgesamt']\n",
    "structural_data = structural_data.drop(rows_to_remove.index)\n",
    "structural_data.drop([315], inplace=True)\n",
    "structural_data.drop(['Fußnoten'], inplace=True, axis=1)\n",
    "structural_data.reset_index(inplace=True, drop=True)\n",
    "structural_data['Wahlkreis-Nr.']=list(range(1,300))\n",
    "\n",
    "# Clean and format the data\n",
    "slice_1 = structural_data.iloc[:,3:].apply(lambda x: x.str.replace('.','').str.replace(',','.').astype('float'))\n",
    "slice_2 = structural_data.iloc[:,:3]\n",
    "structural_data = pd.concat([slice_2, slice_1], axis=1)\n",
    "\n",
    "# Rename columns for better readability\n",
    "column_name_mapping = {\n",
    "    # Add the dictionary with the original column names as keys and shortened names as values\n",
    "}\n",
    "\n",
    "structural_data.rename(columns=column_name_mapping, inplace=True)\n",
    "\n",
    "# Perform calculations on the data\n",
    "structural_data['Total_Population'] = structural_data['Total_Population'] * 1000\n",
    "structural_data['German_Population_Perc'] = 100 - structural_data['Foreign_Population_Perc']\n",
    "structural_data['Vocational_School_Graduates'] = structural_data['Vocational_School_Graduates'] / structural_data['Total_Population'] * 100\n",
    "\n",
    "# Save the cleaned structural data to a CSV file\n",
    "structural_data.to_csv('/Users/Lutz/Documents/german_federal_elections/structural_data.csv')\n",
    "\n"
   ]
  },
  {
   "cell_type": "code",
   "execution_count": null,
   "id": "4ee08832",
   "metadata": {},
   "outputs": [],
   "source": [
    "# Load and preprocess election data\n",
    "import_data_election = pd.read_csv('/Users/lutz/Downloads/election_data_raw.csv', header=None, sep=';')\n",
    "election_data = import_data_election.iloc[2:,:51]\n",
    "\n",
    "# Clean and format the data\n",
    "# Remove columns containing the string 'Vorperiode'\n",
    "string_to_search = \"Vorperiode\"\n",
    "cols_to_remove = []\n",
    "\n",
    "for col in election_data.columns:\n",
    "    if election_data[col].apply(lambda x: string_to_search in str(x)).any():\n",
    "        cols_to_remove.append(col)\n",
    "\n",
    "election_data = election_data.drop(columns=cols_to_remove)\n",
    "\n",
    "# Merge the first three rows into a single row and format the column names\n",
    "merged_row = election_data.iloc[:3,:].apply(lambda x: ', '.join(x.astype(str)), axis=0)\n",
    "merged_row = merged_row.str.replace('nan','').str.replace(' ','').str.replace(',','')\n",
    "election_data.columns = list(merged_row)\n",
    "election_data.drop([2,3,4], inplace=True)\n",
    "election_data.drop([335,336], inplace=True)\n",
    "\n",
    "# Remove unnecessary rows\n",
    "rows_to_remove = election_data[election_data.iloc[:, 2\n"
   ]
  }
 ],
 "metadata": {
  "kernelspec": {
   "display_name": "Python 3 (ipykernel)",
   "language": "python",
   "name": "python3"
  },
  "language_info": {
   "codemirror_mode": {
    "name": "ipython",
    "version": 3
   },
   "file_extension": ".py",
   "mimetype": "text/x-python",
   "name": "python",
   "nbconvert_exporter": "python",
   "pygments_lexer": "ipython3",
   "version": "3.9.13"
  }
 },
 "nbformat": 4,
 "nbformat_minor": 5
}
